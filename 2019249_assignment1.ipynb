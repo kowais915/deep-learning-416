{
  "nbformat": 4,
  "nbformat_minor": 0,
  "metadata": {
    "colab": {
      "provenance": [],
      "collapsed_sections": [],
      "mount_file_id": "1ZDzCwmDklU-wQ1pkZIR_xjFl8OFl4and",
      "authorship_tag": "ABX9TyNPB3tWcAG4aobnz+XtU1ai",
      "include_colab_link": true
    },
    "kernelspec": {
      "name": "python3",
      "display_name": "Python 3"
    },
    "language_info": {
      "name": "python"
    }
  },
  "cells": [
    {
      "cell_type": "markdown",
      "metadata": {
        "id": "view-in-github",
        "colab_type": "text"
      },
      "source": [
        "<a href=\"https://colab.research.google.com/github/kowais915/deep-learning-416/blob/main/2019249_assignment1.ipynb\" target=\"_parent\"><img src=\"https://colab.research.google.com/assets/colab-badge.svg\" alt=\"Open In Colab\"/></a>"
      ]
    },
    {
      "cell_type": "markdown",
      "source": [
        "**Assignment 1**\n",
        "Mohammad Owais Khan\n",
        "2019249\n",
        "Computer Engineering\n"
      ],
      "metadata": {
        "id": "uPOTSNLm6YBP"
      }
    },
    {
      "cell_type": "code",
      "execution_count": 1,
      "metadata": {
        "id": "mMQh50dUE4Lr"
      },
      "outputs": [],
      "source": [
        "import numpy as np\n",
        "import requests\n",
        "import pandas as pd\n",
        "import matplotlib.pyplot as plt\n",
        "from matplotlib import pyplot as plt "
      ]
    },
    {
      "cell_type": "code",
      "source": [
        "# A way to import data using url\n",
        "\n",
        "# res = requests.get('https://raw.githubusercontent.com/Tan-Moy/medium_articles/master/art2_multivariate_linear_regression/home.txt')\n",
        "# text = res.text\n",
        "# print(text)\n"
      ],
      "metadata": {
        "id": "Cw416NRON029"
      },
      "execution_count": 2,
      "outputs": []
    },
    {
      "cell_type": "code",
      "source": [
        "df= pd.read_csv(r'/content/home.txt', header= None)"
      ],
      "metadata": {
        "id": "O3pQ3BN9N4HH"
      },
      "execution_count": 3,
      "outputs": []
    },
    {
      "cell_type": "code",
      "source": [
        "df.columns = ['size', 'bedrooms', 'price']\n",
        "\n",
        "df"
      ],
      "metadata": {
        "id": "JYq5-2g3Rasl"
      },
      "execution_count": null,
      "outputs": []
    },
    {
      "cell_type": "code",
      "source": [
        "X = df.drop(columns = 'price')\n",
        "y = df[['price']]\n"
      ],
      "metadata": {
        "id": "ZF4x66zwTS65"
      },
      "execution_count": 5,
      "outputs": []
    },
    {
      "cell_type": "code",
      "source": [
        "from sklearn.model_selection import train_test_split\n",
        "X_train, X_test, y_train, y_test = train_test_split(X, y, test_size = 0.3, random_state=0 )\n",
        "\n"
      ],
      "metadata": {
        "id": "-i8KDNqbWVRQ"
      },
      "execution_count": 6,
      "outputs": []
    },
    {
      "cell_type": "code",
      "source": [
        "from sklearn.linear_model import LinearRegression\n",
        "lr = LinearRegression()\n"
      ],
      "metadata": {
        "id": "WMLRhMtBMhQD"
      },
      "execution_count": 7,
      "outputs": []
    },
    {
      "cell_type": "code",
      "source": [
        "lr.fit(X_train, y_train)"
      ],
      "metadata": {
        "colab": {
          "base_uri": "https://localhost:8080/"
        },
        "id": "0qXJZwRGMtBJ",
        "outputId": "7cc61aa8-b3c0-414e-8744-1b5b6be63e32"
      },
      "execution_count": 8,
      "outputs": [
        {
          "output_type": "execute_result",
          "data": {
            "text/plain": [
              "LinearRegression()"
            ]
          },
          "metadata": {},
          "execution_count": 8
        }
      ]
    },
    {
      "cell_type": "code",
      "source": [
        "b = lr.intercept_\n",
        "b"
      ],
      "metadata": {
        "colab": {
          "base_uri": "https://localhost:8080/"
        },
        "id": "p80T52ZsM5R1",
        "outputId": "f35e263d-5bae-43ca-f863-63a30fbb1499"
      },
      "execution_count": 9,
      "outputs": [
        {
          "output_type": "execute_result",
          "data": {
            "text/plain": [
              "array([89793.79977782])"
            ]
          },
          "metadata": {},
          "execution_count": 9
        }
      ]
    },
    {
      "cell_type": "code",
      "source": [
        "w = lr.coef_\n",
        "w"
      ],
      "metadata": {
        "colab": {
          "base_uri": "https://localhost:8080/"
        },
        "id": "oo3gP2wUNIHh",
        "outputId": "64ca7ac7-49bb-41aa-fca7-ae0cd6394d2b"
      },
      "execution_count": 10,
      "outputs": [
        {
          "output_type": "execute_result",
          "data": {
            "text/plain": [
              "array([[  131.77059948, -4570.48794717]])"
            ]
          },
          "metadata": {},
          "execution_count": 10
        }
      ]
    },
    {
      "cell_type": "code",
      "source": [
        "y_pred =lr.predict(X_train)\n",
        "y_pred\n"
      ],
      "metadata": {
        "colab": {
          "base_uri": "https://localhost:8080/"
        },
        "id": "eEohzsT2NV2I",
        "outputId": "b98cd01a-615e-40cf-ee15-4d183e723081"
      },
      "execution_count": 11,
      "outputs": [
        {
          "output_type": "execute_result",
          "data": {
            "text/plain": [
              "array([[315550.99822049],\n",
              "       [268203.86997374],\n",
              "       [374584.22678617],\n",
              "       [221029.99536098],\n",
              "       [254590.01519308],\n",
              "       [299919.10141316],\n",
              "       [308920.98521212],\n",
              "       [370984.93756577],\n",
              "       [257925.76321453],\n",
              "       [657010.10449984],\n",
              "       [333076.48795093],\n",
              "       [238950.79688985],\n",
              "       [310148.40364194],\n",
              "       [243167.45607311],\n",
              "       [352446.76607404],\n",
              "       [264118.98138995],\n",
              "       [626924.92478457],\n",
              "       [286915.29509947],\n",
              "       [325128.76894779],\n",
              "       [265436.68738472],\n",
              "       [588669.96790172],\n",
              "       [278218.43553399],\n",
              "       [330045.76416296],\n",
              "       [239346.10868828],\n",
              "       [329435.715696  ],\n",
              "       [470908.53500384],\n",
              "       [272947.61155491],\n",
              "       [356399.88405835],\n",
              "       [234602.36710711],\n",
              "       [267239.99274287],\n",
              "       [353327.67723586],\n",
              "       [192921.37463786]])"
            ]
          },
          "metadata": {},
          "execution_count": 11
        }
      ]
    },
    {
      "cell_type": "code",
      "source": [
        "import matplotlib.pyplot as plt\n",
        "plt.scatter(y_train, y_pred)"
      ],
      "metadata": {
        "colab": {
          "base_uri": "https://localhost:8080/",
          "height": 282
        },
        "id": "fIwm4n-Rc8Hy",
        "outputId": "54005b9e-8952-465d-879d-22c926a51cc5"
      },
      "execution_count": 12,
      "outputs": [
        {
          "output_type": "execute_result",
          "data": {
            "text/plain": [
              "<matplotlib.collections.PathCollection at 0x7fce51c16190>"
            ]
          },
          "metadata": {},
          "execution_count": 12
        },
        {
          "output_type": "display_data",
          "data": {
            "text/plain": [
              "<Figure size 432x288 with 1 Axes>"
            ],
            "image/png": "[encoded data removed]"
          },
          "metadata": {
            "needs_background": "light"
          }
        }
      ]
    },
    {
      "cell_type": "code",
      "source": [
        "import matplotlib.pyplot as plt\n",
        "plt.scatter(y_train, y_pred)\n",
        "plt.xlabel(\"Actual Price\")\n",
        "plt.ylabel(\"Predicted Price\")\n",
        "plt.show()"
      ],
      "metadata": {
        "colab": {
          "base_uri": "https://localhost:8080/",
          "height": 279
        },
        "id": "Dl204fUEdsza",
        "outputId": "8d8291c0-035e-4003-a496-b3ace6e387d4"
      },
      "execution_count": 16,
      "outputs": [
        {
          "output_type": "display_data",
          "data": {
            "text/plain": [
              "<Figure size 432x288 with 1 Axes>"
            ],
            "image/png": "[encoded data removed]"
          },
          "metadata": {
            "needs_background": "light"
          }
        }
      ]
    }
  ]
}