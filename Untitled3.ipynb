{
  "nbformat": 4,
  "nbformat_minor": 0,
  "metadata": {
    "colab": {
      "provenance": [],
      "authorship_tag": "ABX9TyOOtNVo30tbhjor2OBeyx48",
      "include_colab_link": true
    },
    "kernelspec": {
      "name": "python3",
      "display_name": "Python 3"
    },
    "language_info": {
      "name": "python"
    }
  },
  "cells": [
    {
      "cell_type": "markdown",
      "metadata": {
        "id": "view-in-github",
        "colab_type": "text"
      },
      "source": [
        "<a href=\"https://colab.research.google.com/github/kowais915/deep-learning-416/blob/main/Untitled3.ipynb\" target=\"_parent\"><img src=\"https://colab.research.google.com/assets/colab-badge.svg\" alt=\"Open In Colab\"/></a>"
      ]
    },
    {
      "cell_type": "code",
      "execution_count": 1,
      "metadata": {
        "id": "orhbzmAFaGC9"
      },
      "outputs": [],
      "source": [
        "import tensorflow as tf\n",
        "import numpy as np"
      ]
    },
    {
      "cell_type": "code",
      "source": [
        "w = tf.Variable(3.0)\n",
        "x = 1.0\n",
        "y = 1.0\n",
        "alpha = 0.01\n",
        "\n"
      ],
      "metadata": {
        "id": "vofx__EAaKxH"
      },
      "execution_count": 2,
      "outputs": []
    },
    {
      "cell_type": "code",
      "source": [
        "iterations = 30\n",
        "\n",
        "for iter in range(iterations):\n",
        "  with tf.GradientTape() as tape:\n",
        "    fwb = w*x\n",
        "    costJ = (fwb - y)**2"
      ],
      "metadata": {
        "id": "5D71Rna0aWLh"
      },
      "execution_count": 4,
      "outputs": []
    },
    {
      "cell_type": "code",
      "source": [
        "[djdw] = tape.gradient(costJ, [w])"
      ],
      "metadata": {
        "id": "G9tH-hIta9bw"
      },
      "execution_count": 5,
      "outputs": []
    },
    {
      "cell_type": "code",
      "source": [
        "w.assign_add(-alpha*djdw)"
      ],
      "metadata": {
        "colab": {
          "base_uri": "https://localhost:8080/"
        },
        "id": "-0ZqjcShbvP5",
        "outputId": "c5dc5eff-eea0-479b-99ac-459af8f30ead"
      },
      "execution_count": 6,
      "outputs": [
        {
          "output_type": "execute_result",
          "data": {
            "text/plain": [
              "<tf.Variable 'UnreadVariable' shape=() dtype=float32, numpy=2.96>"
            ]
          },
          "metadata": {},
          "execution_count": 6
        }
      ]
    }
  ]
}