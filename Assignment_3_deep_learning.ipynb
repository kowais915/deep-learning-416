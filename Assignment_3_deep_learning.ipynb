{
  "nbformat": 4,
  "nbformat_minor": 0,
  "metadata": {
    "colab": {
      "provenance": [],
      "authorship_tag": "ABX9TyNKitpNFcFcGNvyxQFKWAsI",
      "include_colab_link": true
    },
    "kernelspec": {
      "name": "python3",
      "display_name": "Python 3"
    },
    "language_info": {
      "name": "python"
    }
  },
  "cells": [
    {
      "cell_type": "markdown",
      "metadata": {
        "id": "view-in-github",
        "colab_type": "text"
      },
      "source": [
        "<a href=\"https://colab.research.google.com/github/kowais915/deep-learning-416/blob/main/Assignment_3_deep_learning.ipynb\" target=\"_parent\"><img src=\"https://colab.research.google.com/assets/colab-badge.svg\" alt=\"Open In Colab\"/></a>"
      ]
    },
    {
      "cell_type": "code",
      "execution_count": null,
      "metadata": {
        "colab": {
          "base_uri": "https://localhost:8080/"
        },
        "id": "Iw8Djetchy6u",
        "outputId": "e8a25892-7aad-4152-b808-e1262c47fd82"
      },
      "outputs": [
        {
          "output_type": "execute_result",
          "data": {
            "text/plain": [
              "(10000, 32, 32, 3)"
            ]
          },
          "metadata": {},
          "execution_count": 10
        }
      ],
      "source": [
        "\n",
        "\n",
        "import pandas as pd\n",
        "import tensorflow as tf\n",
        "import matplotlib.pyplot as plt\n",
        "from tensorflow.keras import datasets, layers, models\n",
        "from tensorflow.keras.layers import BatchNormalization\n",
        "import numpy as np\n",
        "\n",
        "\n",
        "\n",
        "(x_train, y_train), (x_test, y_test) = datasets.cifar10.load_data()\n",
        "\n",
        "x_train.shape\n",
        "x_test.shape"
      ]
    },
    {
      "cell_type": "code",
      "source": [
        "plt.imshow(x_train[45])\n",
        "\n",
        "\n",
        "\n",
        "\n"
      ],
      "metadata": {
        "id": "6glrKZqu2kTK",
        "colab": {
          "base_uri": "https://localhost:8080/",
          "height": 283
        },
        "outputId": "d0c1cc70-f961-4ff3-cde7-fcdc4fa22282"
      },
      "execution_count": null,
      "outputs": [
        {
          "output_type": "execute_result",
          "data": {
            "text/plain": [
              "<matplotlib.image.AxesImage at 0x7fa96530e4f0>"
            ]
          },
          "metadata": {},
          "execution_count": 11
        },
        {
          "output_type": "display_data",
          "data": {
            "text/plain": [
              "<Figure size 432x288 with 1 Axes>"
            ],
            "image/png": "[encoded data removed]"
          },
          "metadata": {
            "needs_background": "light"
          }
        }
      ]
    },
    {
      "cell_type": "markdown",
      "source": [
        "### reshape"
      ],
      "metadata": {
        "id": "DfveZRJIEqry"
      }
    },
    {
      "cell_type": "code",
      "source": [
        "y_train = y_train.reshape(-1, )"
      ],
      "metadata": {
        "id": "j8Q9E5nVE_0f"
      },
      "execution_count": null,
      "outputs": []
    },
    {
      "cell_type": "code",
      "source": [
        "classes = [\"airplane\", \"automobile\", \"bird\", \"cat\", \"deer\", \"dog\", \"frog\", \"horse\", \"ship\", \"truck\" ]"
      ],
      "metadata": {
        "id": "lAX-D2ijE-pA"
      },
      "execution_count": null,
      "outputs": []
    },
    {
      "cell_type": "code",
      "source": [
        "def showImg(x, y, i):\n",
        "  plt.figure(figsize=(10,2))\n",
        "  plt.imshow(x[i])\n",
        "  plt.xlabel(classes[y[i]])\n",
        "  "
      ],
      "metadata": {
        "id": "x7bCz0foFGyv"
      },
      "execution_count": null,
      "outputs": []
    },
    {
      "cell_type": "code",
      "source": [
        "showImg(x_train, y_train, 10)"
      ],
      "metadata": {
        "colab": {
          "base_uri": "https://localhost:8080/",
          "height": 173
        },
        "id": "slx-8dHUGB57",
        "outputId": "6b5691f3-6c7f-446d-97a6-6ee32d4b9eb2"
      },
      "execution_count": null,
      "outputs": [
        {
          "output_type": "display_data",
          "data": {
            "text/plain": [
              "<Figure size 720x144 with 1 Axes>"
            ],
            "image/png": "[encoded data removed]"
          },
          "metadata": {
            "needs_background": "light"
          }
        }
      ]
    },
    {
      "cell_type": "code",
      "source": [
        "x_train = x_train/255\n",
        "y_test = x_test/255\n",
        "\n"
      ],
      "metadata": {
        "id": "evaiaQLgGNvS"
      },
      "execution_count": null,
      "outputs": []
    },
    {
      "cell_type": "markdown",
      "source": [
        "**Convolution Network**"
      ],
      "metadata": {
        "id": "3iDHPS_nGo8a"
      }
    },
    {
      "cell_type": "code",
      "source": [
        "cnn = models.Sequential([\n",
        "    # convolution\n",
        "    layers.Conv2D(filters=32, kernel_size=(3,3), activation='relu', input_shape=(32,32,3)),\n",
        "    # max pooling\n",
        "    layers.MaxPooling2D((2,2)),\n",
        "    BatchNormalization(),\n",
        "    # relu\n",
        "    layers.Dense(64, activation ='relu'),\n",
        "    # convolution\n",
        "    layers.Conv2D(filters=32, kernel_size=(3,3), activation='relu', input_shape=(32, 32, 3)),\n",
        "    # max pooling\n",
        "    layers.MaxPooling2D((2,2)),\n",
        "    BatchNormalization(),\n",
        "    # relu\n",
        "    layers.Dense(64, activation ='relu'),\n",
        "    # conv\n",
        "    layers.Conv2D(filters=32, kernel_size=(3,3), activation='relu', input_shape=(32, 32, 3)),\n",
        "    # max pooling\n",
        "    layers.MaxPooling2D((2,2)),\n",
        "   \n",
        "\n",
        "    layers.Flatten(),\n",
        "    layers.Dense(64, activation='relu'),\n",
        "    # output\n",
        "    layers.Dense(10, activation ='softmax')\n",
        "])"
      ],
      "metadata": {
        "id": "FfHeAOzB3WC4"
      },
      "execution_count": null,
      "outputs": []
    },
    {
      "cell_type": "code",
      "source": [
        "cnn.compile(\n",
        "    optimizer= 'adam',\n",
        "    loss='sparse_categorical_crossentropy',\n",
        "    metrics=(['accuracy'])\n",
        ")\n",
        "\n",
        "cnn.fit(x_train, y_train, epochs=10)"
      ],
      "metadata": {
        "colab": {
          "base_uri": "https://localhost:8080/"
        },
        "id": "ov_g9WPM7Kea",
        "outputId": "e070dccc-f020-4c4c-b603-019d962eb66d"
      },
      "execution_count": null,
      "outputs": [
        {
          "output_type": "stream",
          "name": "stdout",
          "text": [
            "Epoch 1/10\n",
            "1563/1563 [==============================] - 98s 62ms/step - loss: 1.3973 - accuracy: 0.4942\n",
            "Epoch 2/10\n",
            "1563/1563 [==============================] - 95s 61ms/step - loss: 1.0589 - accuracy: 0.6217\n",
            "Epoch 3/10\n",
            "1563/1563 [==============================] - 95s 61ms/step - loss: 0.9248 - accuracy: 0.6713\n",
            "Epoch 4/10\n",
            "1563/1563 [==============================] - 95s 61ms/step - loss: 0.8431 - accuracy: 0.7006\n",
            "Epoch 5/10\n",
            "1563/1563 [==============================] - 98s 62ms/step - loss: 0.7861 - accuracy: 0.7236\n",
            "Epoch 6/10\n",
            "1563/1563 [==============================] - 96s 61ms/step - loss: 0.7292 - accuracy: 0.7451\n",
            "Epoch 7/10\n",
            "1563/1563 [==============================] - 96s 62ms/step - loss: 0.6887 - accuracy: 0.7567\n",
            "Epoch 8/10\n",
            "1563/1563 [==============================] - 97s 62ms/step - loss: 0.6528 - accuracy: 0.7705\n",
            "Epoch 9/10\n",
            "1563/1563 [==============================] - 97s 62ms/step - loss: 0.6242 - accuracy: 0.7811\n",
            "Epoch 10/10\n",
            "1563/1563 [==============================] - 97s 62ms/step - loss: 0.5956 - accuracy: 0.7892\n"
          ]
        },
        {
          "output_type": "execute_result",
          "data": {
            "text/plain": [
              "<keras.callbacks.History at 0x7fa966f8b460>"
            ]
          },
          "metadata": {},
          "execution_count": 18
        }
      ]
    },
    {
      "cell_type": "code",
      "source": [],
      "metadata": {
        "id": "5uUSpD0UOILx"
      },
      "execution_count": null,
      "outputs": []
    },
    {
      "cell_type": "code",
      "source": [
        "y_predict = cnn.predict(x_test)\n"
      ],
      "metadata": {
        "colab": {
          "base_uri": "https://localhost:8080/"
        },
        "id": "Kl0r8xYjNlUs",
        "outputId": "4a9632b0-b193-4db9-a688-d522fecdaac0"
      },
      "execution_count": null,
      "outputs": [
        {
          "output_type": "stream",
          "name": "stdout",
          "text": [
            "313/313 [==============================] - 6s 18ms/step\n"
          ]
        }
      ]
    },
    {
      "cell_type": "code",
      "source": [
        "y_predict[9]"
      ],
      "metadata": {
        "colab": {
          "base_uri": "https://localhost:8080/"
        },
        "id": "IMortmtRQgZJ",
        "outputId": "0e71cd60-4e35-429c-d8b7-75799cd9d390"
      },
      "execution_count": null,
      "outputs": [
        {
          "output_type": "execute_result",
          "data": {
            "text/plain": [
              "array([0.99999994, 0.        , 0.        , 0.        , 0.        ,\n",
              "       0.        , 0.        , 0.        , 0.        , 0.        ],\n",
              "      dtype=float32)"
            ]
          },
          "metadata": {},
          "execution_count": 20
        }
      ]
    },
    {
      "cell_type": "code",
      "source": [
        "y_predict = [np.argmax(arr) for arr in y_predict]\n"
      ],
      "metadata": {
        "id": "zcpkW1HzOJ5y"
      },
      "execution_count": null,
      "outputs": []
    },
    {
      "cell_type": "code",
      "source": [
        "y_test = y_test.reshape(-1, )\n",
        "\n",
        "y_test[4]"
      ],
      "metadata": {
        "colab": {
          "base_uri": "https://localhost:8080/"
        },
        "id": "I5abxTpTOYUt",
        "outputId": "c7affbbb-882d-4c42-bdee-0437af01304d"
      },
      "execution_count": null,
      "outputs": [
        {
          "output_type": "execute_result",
          "data": {
            "text/plain": [
              "0.43529411764705883"
            ]
          },
          "metadata": {},
          "execution_count": 24
        }
      ]
    },
    {
      "cell_type": "code",
      "source": [
        "showImg(x_test, y_test, 4)"
      ],
      "metadata": {
        "colab": {
          "base_uri": "https://localhost:8080/",
          "height": 411
        },
        "id": "gmzDb9bDQuVg",
        "outputId": "5f8fae92-8425-42d0-f507-5c7f222d25be"
      },
      "execution_count": null,
      "outputs": [
        {
          "output_type": "error",
          "ename": "TypeError",
          "evalue": "ignored",
          "traceback": [
            "\u001b[0;31m---------------------------------------------------------------------------\u001b[0m",
            "\u001b[0;31mTypeError\u001b[0m                                 Traceback (most recent call last)",
            "\u001b[0;32m<ipython-input-26-b4fb4f835dd5>\u001b[0m in \u001b[0;36m<module>\u001b[0;34m\u001b[0m\n\u001b[0;32m----> 1\u001b[0;31m \u001b[0mshowImg\u001b[0m\u001b[0;34m(\u001b[0m\u001b[0mx_test\u001b[0m\u001b[0;34m,\u001b[0m \u001b[0my_test\u001b[0m\u001b[0;34m,\u001b[0m \u001b[0;36m4\u001b[0m\u001b[0;34m)\u001b[0m\u001b[0;34m\u001b[0m\u001b[0;34m\u001b[0m\u001b[0m\n\u001b[0m",
            "\u001b[0;32m<ipython-input-14-3d9099ed45fb>\u001b[0m in \u001b[0;36mshowImg\u001b[0;34m(x, y, i)\u001b[0m\n\u001b[1;32m      2\u001b[0m   \u001b[0mplt\u001b[0m\u001b[0;34m.\u001b[0m\u001b[0mfigure\u001b[0m\u001b[0;34m(\u001b[0m\u001b[0mfigsize\u001b[0m\u001b[0;34m=\u001b[0m\u001b[0;34m(\u001b[0m\u001b[0;36m10\u001b[0m\u001b[0;34m,\u001b[0m\u001b[0;36m2\u001b[0m\u001b[0;34m)\u001b[0m\u001b[0;34m)\u001b[0m\u001b[0;34m\u001b[0m\u001b[0;34m\u001b[0m\u001b[0m\n\u001b[1;32m      3\u001b[0m   \u001b[0mplt\u001b[0m\u001b[0;34m.\u001b[0m\u001b[0mimshow\u001b[0m\u001b[0;34m(\u001b[0m\u001b[0mx\u001b[0m\u001b[0;34m[\u001b[0m\u001b[0mi\u001b[0m\u001b[0;34m]\u001b[0m\u001b[0;34m)\u001b[0m\u001b[0;34m\u001b[0m\u001b[0;34m\u001b[0m\u001b[0m\n\u001b[0;32m----> 4\u001b[0;31m   \u001b[0mplt\u001b[0m\u001b[0;34m.\u001b[0m\u001b[0mxlabel\u001b[0m\u001b[0;34m(\u001b[0m\u001b[0mclasses\u001b[0m\u001b[0;34m[\u001b[0m\u001b[0my\u001b[0m\u001b[0;34m[\u001b[0m\u001b[0mi\u001b[0m\u001b[0;34m]\u001b[0m\u001b[0;34m]\u001b[0m\u001b[0;34m)\u001b[0m\u001b[0;34m\u001b[0m\u001b[0;34m\u001b[0m\u001b[0m\n\u001b[0m\u001b[1;32m      5\u001b[0m \u001b[0;34m\u001b[0m\u001b[0m\n",
            "\u001b[0;31mTypeError\u001b[0m: list indices must be integers or slices, not numpy.float64"
          ]
        },
        {
          "output_type": "display_data",
          "data": {
            "text/plain": [
              "<Figure size 720x144 with 1 Axes>"
            ],
            "image/png": "[encoded data removed]"
          },
          "metadata": {
            "needs_background": "light"
          }
        }
      ]
    }
  ]
}