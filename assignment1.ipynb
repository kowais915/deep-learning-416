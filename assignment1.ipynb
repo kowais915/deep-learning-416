{
  "nbformat": 4,
  "nbformat_minor": 0,
  "metadata": {
    "colab": {
      "provenance": [],
      "collapsed_sections": [],
      "authorship_tag": "ABX9TyNCSLusG56c0UfCAX5GuxdX",
      "include_colab_link": true
    },
    "kernelspec": {
      "name": "python3",
      "display_name": "Python 3"
    },
    "language_info": {
      "name": "python"
    }
  },
  "cells": [
    {
      "cell_type": "markdown",
      "metadata": {
        "id": "view-in-github",
        "colab_type": "text"
      },
      "source": [
        "<a href=\"https://colab.research.google.com/github/kowais915/deep-learning-416/blob/main/assignment1.ipynb\" target=\"_parent\"><img src=\"https://colab.research.google.com/assets/colab-badge.svg\" alt=\"Open In Colab\"/></a>"
      ]
    },
    {
      "cell_type": "code",
      "execution_count": 3,
      "metadata": {
        "id": "mMQh50dUE4Lr",
        "colab": {
          "base_uri": "https://localhost:8080/"
        },
        "outputId": "a6285905-2094-42b6-9d69-6986c973424a"
      },
      "outputs": [
        {
          "output_type": "stream",
          "name": "stdout",
          "text": [
            "2104,3,399900\n",
            "1600,3,329900\n",
            "2400,3,369000\n",
            "1416,2,232000\n",
            "3000,4,539900\n",
            "1985,4,299900\n",
            "1534,3,314900\n",
            "1427,3,198999\n",
            "1380,3,212000\n",
            "1494,3,242500\n",
            "1940,4,239999\n",
            "2000,3,347000\n",
            "1890,3,329999\n",
            "4478,5,699900\n",
            "1268,3,259900\n",
            "2300,4,449900\n",
            "1320,2,299900\n",
            "1236,3,199900\n",
            "2609,4,499998\n",
            "3031,4,599000\n",
            "1767,3,252900\n",
            "1888,2,255000\n",
            "1604,3,242900\n",
            "1962,4,259900\n",
            "3890,3,573900\n",
            "1100,3,249900\n",
            "1458,3,464500\n",
            "2526,3,469000\n",
            "2200,3,475000\n",
            "2637,3,299900\n",
            "1839,2,349900\n",
            "1000,1,169900\n",
            "2040,4,314900\n",
            "3137,3,579900\n",
            "1811,4,285900\n",
            "1437,3,249900\n",
            "1239,3,229900\n",
            "2132,4,345000\n",
            "4215,4,549000\n",
            "2162,4,287000\n",
            "1664,2,368500\n",
            "2238,3,329900\n",
            "2567,4,314000\n",
            "1200,3,299000\n",
            "852,2,179900\n",
            "1852,4,299900\n",
            "1203,3,239500\n"
          ]
        }
      ],
      "source": [
        "import numpy as np\n",
        "import requests\n",
        "res = requests.get('https://raw.githubusercontent.com/Tan-Moy/medium_articles/master/art2_multivariate_linear_regression/home.txt')\n",
        "text = res.text\n",
        "\n",
        "print(text)\n",
        "\n"
      ]
    }
  ]
}